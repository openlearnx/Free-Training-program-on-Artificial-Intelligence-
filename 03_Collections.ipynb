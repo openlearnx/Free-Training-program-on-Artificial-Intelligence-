{
  "nbformat": 4,
  "nbformat_minor": 0,
  "metadata": {
    "colab": {
      "name": "03.Collections.ipynb",
      "provenance": [],
      "collapsed_sections": [],
      "authorship_tag": "ABX9TyNQSrWx+6QNzfh1ADkZ3cRp",
      "include_colab_link": true
    },
    "kernelspec": {
      "name": "python3",
      "display_name": "Python 3"
    }
  },
  "cells": [
    {
      "cell_type": "markdown",
      "metadata": {
        "id": "view-in-github",
        "colab_type": "text"
      },
      "source": [
        "<a href=\"https://colab.research.google.com/github/openlearnx/Free-Training-program-on-Artificial-Intelligence-/blob/master/03_Collections.ipynb\" target=\"_parent\"><img src=\"https://colab.research.google.com/assets/colab-badge.svg\" alt=\"Open In Colab\"/></a>"
      ]
    },
    {
      "cell_type": "code",
      "metadata": {
        "id": "qw0DDsEg4vAW",
        "colab_type": "code",
        "colab": {}
      },
      "source": [
        "x=[\"Venad Express\",\"Parasuram Express\", \"Shornur Passenger\", \"Chennai Mail\", \"Hyderabad Express\"]"
      ],
      "execution_count": 0,
      "outputs": []
    },
    {
      "cell_type": "code",
      "metadata": {
        "id": "zjU-zHmC5qv4",
        "colab_type": "code",
        "outputId": "3979b271-3a90-4bbb-bfe7-48e3972abbef",
        "colab": {
          "base_uri": "https://localhost:8080/",
          "height": 109
        }
      },
      "source": [
        "x"
      ],
      "execution_count": 2,
      "outputs": [
        {
          "output_type": "execute_result",
          "data": {
            "text/plain": [
              "['Venad Express',\n",
              " 'Parasuram Express',\n",
              " 'Shornur Passenger',\n",
              " 'Chennai Mail',\n",
              " 'Hyderabad Express']"
            ]
          },
          "metadata": {
            "tags": []
          },
          "execution_count": 2
        }
      ]
    },
    {
      "cell_type": "code",
      "metadata": {
        "id": "6diFv11R5sOt",
        "colab_type": "code",
        "outputId": "fea33664-c014-4928-ec19-1fcb8d8f603d",
        "colab": {
          "base_uri": "https://localhost:8080/",
          "height": 35
        }
      },
      "source": [
        "type(x)"
      ],
      "execution_count": 3,
      "outputs": [
        {
          "output_type": "execute_result",
          "data": {
            "text/plain": [
              "list"
            ]
          },
          "metadata": {
            "tags": []
          },
          "execution_count": 3
        }
      ]
    },
    {
      "cell_type": "code",
      "metadata": {
        "id": "3NWoISLk5zZS",
        "colab_type": "code",
        "outputId": "de8fa4e7-a745-40a9-902b-14906d891332",
        "colab": {
          "base_uri": "https://localhost:8080/",
          "height": 35
        }
      },
      "source": [
        "x[0]"
      ],
      "execution_count": 4,
      "outputs": [
        {
          "output_type": "execute_result",
          "data": {
            "text/plain": [
              "'Venad Express'"
            ]
          },
          "metadata": {
            "tags": []
          },
          "execution_count": 4
        }
      ]
    },
    {
      "cell_type": "code",
      "metadata": {
        "id": "8_XZl0vJ59Tf",
        "colab_type": "code",
        "outputId": "c08ff0a3-6ac4-47af-af90-481820ddc59e",
        "colab": {
          "base_uri": "https://localhost:8080/",
          "height": 35
        }
      },
      "source": [
        "x[0:3]"
      ],
      "execution_count": 5,
      "outputs": [
        {
          "output_type": "execute_result",
          "data": {
            "text/plain": [
              "['Venad Express', 'Parasuram Express', 'Shornur Passenger']"
            ]
          },
          "metadata": {
            "tags": []
          },
          "execution_count": 5
        }
      ]
    },
    {
      "cell_type": "code",
      "metadata": {
        "id": "PYVd107H6ASj",
        "colab_type": "code",
        "outputId": "0998808a-a8c9-4669-faa8-3a3c39a35047",
        "colab": {
          "base_uri": "https://localhost:8080/",
          "height": 35
        }
      },
      "source": [
        "x[-1]"
      ],
      "execution_count": 6,
      "outputs": [
        {
          "output_type": "execute_result",
          "data": {
            "text/plain": [
              "'Hyderabad Express'"
            ]
          },
          "metadata": {
            "tags": []
          },
          "execution_count": 6
        }
      ]
    },
    {
      "cell_type": "code",
      "metadata": {
        "id": "k-GWh-TJ6Dis",
        "colab_type": "code",
        "outputId": "0f475a62-9c3a-4e7a-ce11-a5853a9cf5b6",
        "colab": {
          "base_uri": "https://localhost:8080/",
          "height": 35
        }
      },
      "source": [
        "x[1:]"
      ],
      "execution_count": 7,
      "outputs": [
        {
          "output_type": "execute_result",
          "data": {
            "text/plain": [
              "['Parasuram Express', 'Shornur Passenger', 'Chennai Mail', 'Hyderabad Express']"
            ]
          },
          "metadata": {
            "tags": []
          },
          "execution_count": 7
        }
      ]
    },
    {
      "cell_type": "code",
      "metadata": {
        "id": "0oYeB7ov6KcG",
        "colab_type": "code",
        "outputId": "95aeb8b2-02b1-474d-cb53-7c8d717263b8",
        "colab": {
          "base_uri": "https://localhost:8080/",
          "height": 35
        }
      },
      "source": [
        "x.index(\"Hyderabad Express\")"
      ],
      "execution_count": 8,
      "outputs": [
        {
          "output_type": "execute_result",
          "data": {
            "text/plain": [
              "4"
            ]
          },
          "metadata": {
            "tags": []
          },
          "execution_count": 8
        }
      ]
    },
    {
      "cell_type": "code",
      "metadata": {
        "id": "v6fmmQKO6e2U",
        "colab_type": "code",
        "colab": {}
      },
      "source": [
        "x[4]=\"Nisamudheen Express\""
      ],
      "execution_count": 0,
      "outputs": []
    },
    {
      "cell_type": "code",
      "metadata": {
        "id": "xkFp18Yq6nw5",
        "colab_type": "code",
        "outputId": "db4ffe46-7399-4057-dd04-2bb1e8e78424",
        "colab": {
          "base_uri": "https://localhost:8080/",
          "height": 109
        }
      },
      "source": [
        "x"
      ],
      "execution_count": 10,
      "outputs": [
        {
          "output_type": "execute_result",
          "data": {
            "text/plain": [
              "['Venad Express',\n",
              " 'Parasuram Express',\n",
              " 'Shornur Passenger',\n",
              " 'Chennai Mail',\n",
              " 'Nisamudheen Express']"
            ]
          },
          "metadata": {
            "tags": []
          },
          "execution_count": 10
        }
      ]
    },
    {
      "cell_type": "code",
      "metadata": {
        "id": "kTe-Ocha6rH8",
        "colab_type": "code",
        "colab": {}
      },
      "source": [
        "x.append(\"Rajadhani Express\")"
      ],
      "execution_count": 0,
      "outputs": []
    },
    {
      "cell_type": "code",
      "metadata": {
        "id": "fiQJhSiW7HjE",
        "colab_type": "code",
        "outputId": "278a9eec-e91e-4a8b-fc8e-7ea08e7647d7",
        "colab": {
          "base_uri": "https://localhost:8080/",
          "height": 127
        }
      },
      "source": [
        "x"
      ],
      "execution_count": 12,
      "outputs": [
        {
          "output_type": "execute_result",
          "data": {
            "text/plain": [
              "['Venad Express',\n",
              " 'Parasuram Express',\n",
              " 'Shornur Passenger',\n",
              " 'Chennai Mail',\n",
              " 'Nisamudheen Express',\n",
              " 'Rajadhani Express']"
            ]
          },
          "metadata": {
            "tags": []
          },
          "execution_count": 12
        }
      ]
    },
    {
      "cell_type": "code",
      "metadata": {
        "id": "nkaae0wE7IGQ",
        "colab_type": "code",
        "colab": {}
      },
      "source": [
        "x.insert(0,\"Maharaja Express\")"
      ],
      "execution_count": 0,
      "outputs": []
    },
    {
      "cell_type": "code",
      "metadata": {
        "id": "QNtADIyt7i3g",
        "colab_type": "code",
        "outputId": "ebcc72be-2070-44b6-bfc0-98d35d4cf640",
        "colab": {
          "base_uri": "https://localhost:8080/",
          "height": 146
        }
      },
      "source": [
        "x"
      ],
      "execution_count": 14,
      "outputs": [
        {
          "output_type": "execute_result",
          "data": {
            "text/plain": [
              "['Maharaja Express',\n",
              " 'Venad Express',\n",
              " 'Parasuram Express',\n",
              " 'Shornur Passenger',\n",
              " 'Chennai Mail',\n",
              " 'Nisamudheen Express',\n",
              " 'Rajadhani Express']"
            ]
          },
          "metadata": {
            "tags": []
          },
          "execution_count": 14
        }
      ]
    },
    {
      "cell_type": "code",
      "metadata": {
        "id": "3hwaMlDp7jii",
        "colab_type": "code",
        "colab": {}
      },
      "source": [
        "del x[0]"
      ],
      "execution_count": 0,
      "outputs": []
    },
    {
      "cell_type": "code",
      "metadata": {
        "id": "XiQrhGOp7085",
        "colab_type": "code",
        "outputId": "5321b2ea-4c44-4252-a6a7-9390fcb6f7c4",
        "colab": {
          "base_uri": "https://localhost:8080/",
          "height": 127
        }
      },
      "source": [
        "x"
      ],
      "execution_count": 16,
      "outputs": [
        {
          "output_type": "execute_result",
          "data": {
            "text/plain": [
              "['Venad Express',\n",
              " 'Parasuram Express',\n",
              " 'Shornur Passenger',\n",
              " 'Chennai Mail',\n",
              " 'Nisamudheen Express',\n",
              " 'Rajadhani Express']"
            ]
          },
          "metadata": {
            "tags": []
          },
          "execution_count": 16
        }
      ]
    },
    {
      "cell_type": "code",
      "metadata": {
        "id": "MgWzDE6S71kh",
        "colab_type": "code",
        "colab": {}
      },
      "source": [
        "del x[1]"
      ],
      "execution_count": 0,
      "outputs": []
    },
    {
      "cell_type": "code",
      "metadata": {
        "id": "xeRjqtHH76mk",
        "colab_type": "code",
        "outputId": "b9ca8978-c59e-4f7a-8c31-7a8aa64e3571",
        "colab": {
          "base_uri": "https://localhost:8080/",
          "height": 109
        }
      },
      "source": [
        "x"
      ],
      "execution_count": 18,
      "outputs": [
        {
          "output_type": "execute_result",
          "data": {
            "text/plain": [
              "['Venad Express',\n",
              " 'Shornur Passenger',\n",
              " 'Chennai Mail',\n",
              " 'Nisamudheen Express',\n",
              " 'Rajadhani Express']"
            ]
          },
          "metadata": {
            "tags": []
          },
          "execution_count": 18
        }
      ]
    },
    {
      "cell_type": "code",
      "metadata": {
        "id": "YPJkwqLr77jZ",
        "colab_type": "code",
        "outputId": "4925b8a6-461f-4e42-a019-ca01e1a25eb2",
        "colab": {
          "base_uri": "https://localhost:8080/",
          "height": 35
        }
      },
      "source": [
        "x.pop()"
      ],
      "execution_count": 19,
      "outputs": [
        {
          "output_type": "execute_result",
          "data": {
            "text/plain": [
              "'Rajadhani Express'"
            ]
          },
          "metadata": {
            "tags": []
          },
          "execution_count": 19
        }
      ]
    },
    {
      "cell_type": "code",
      "metadata": {
        "id": "DZ8WmPQz8DB-",
        "colab_type": "code",
        "colab": {}
      },
      "source": [
        "x=[5,3,4,6,7,9,3]"
      ],
      "execution_count": 0,
      "outputs": []
    },
    {
      "cell_type": "code",
      "metadata": {
        "id": "da1SrHDL8RSc",
        "colab_type": "code",
        "colab": {}
      },
      "source": [
        "y=[3,6,7]"
      ],
      "execution_count": 0,
      "outputs": []
    },
    {
      "cell_type": "code",
      "metadata": {
        "id": "56t7aI9e8S-Q",
        "colab_type": "code",
        "outputId": "c5d72fd9-3d6e-4290-b435-9963972309bd",
        "colab": {
          "base_uri": "https://localhost:8080/",
          "height": 35
        }
      },
      "source": [
        "x+y"
      ],
      "execution_count": 22,
      "outputs": [
        {
          "output_type": "execute_result",
          "data": {
            "text/plain": [
              "[5, 3, 4, 6, 7, 9, 3, 3, 6, 7]"
            ]
          },
          "metadata": {
            "tags": []
          },
          "execution_count": 22
        }
      ]
    },
    {
      "cell_type": "code",
      "metadata": {
        "id": "oWqw5NkW8Ulz",
        "colab_type": "code",
        "colab": {}
      },
      "source": [
        "x.sort()"
      ],
      "execution_count": 0,
      "outputs": []
    },
    {
      "cell_type": "code",
      "metadata": {
        "id": "T9-YVei_8dE0",
        "colab_type": "code",
        "outputId": "84ed266e-eef0-4188-e372-3660c4b4d906",
        "colab": {
          "base_uri": "https://localhost:8080/",
          "height": 35
        }
      },
      "source": [
        "x"
      ],
      "execution_count": 24,
      "outputs": [
        {
          "output_type": "execute_result",
          "data": {
            "text/plain": [
              "[3, 3, 4, 5, 6, 7, 9]"
            ]
          },
          "metadata": {
            "tags": []
          },
          "execution_count": 24
        }
      ]
    },
    {
      "cell_type": "code",
      "metadata": {
        "id": "D-V7jfpJ8d3Y",
        "colab_type": "code",
        "colab": {}
      },
      "source": [
        "x.reverse()"
      ],
      "execution_count": 0,
      "outputs": []
    },
    {
      "cell_type": "code",
      "metadata": {
        "id": "megshAST8hqQ",
        "colab_type": "code",
        "outputId": "ac6231ad-2bde-49df-c96f-b254d35c9dd2",
        "colab": {
          "base_uri": "https://localhost:8080/",
          "height": 35
        }
      },
      "source": [
        "x"
      ],
      "execution_count": 26,
      "outputs": [
        {
          "output_type": "execute_result",
          "data": {
            "text/plain": [
              "[9, 7, 6, 5, 4, 3, 3]"
            ]
          },
          "metadata": {
            "tags": []
          },
          "execution_count": 26
        }
      ]
    },
    {
      "cell_type": "code",
      "metadata": {
        "id": "9QFOGg8f814o",
        "colab_type": "code",
        "outputId": "c006b324-abc6-4967-8c4c-9d30ed277065",
        "colab": {
          "base_uri": "https://localhost:8080/",
          "height": 35
        }
      },
      "source": [
        "min(x)"
      ],
      "execution_count": 27,
      "outputs": [
        {
          "output_type": "execute_result",
          "data": {
            "text/plain": [
              "3"
            ]
          },
          "metadata": {
            "tags": []
          },
          "execution_count": 27
        }
      ]
    },
    {
      "cell_type": "code",
      "metadata": {
        "id": "X924mCTk83qQ",
        "colab_type": "code",
        "outputId": "6948c95d-bf51-4b01-af50-598e084d2d75",
        "colab": {
          "base_uri": "https://localhost:8080/",
          "height": 35
        }
      },
      "source": [
        "max(x)"
      ],
      "execution_count": 28,
      "outputs": [
        {
          "output_type": "execute_result",
          "data": {
            "text/plain": [
              "9"
            ]
          },
          "metadata": {
            "tags": []
          },
          "execution_count": 28
        }
      ]
    },
    {
      "cell_type": "code",
      "metadata": {
        "id": "MbaExqCB8489",
        "colab_type": "code",
        "colab": {}
      },
      "source": [
        "x=(2,3,5,4,6)"
      ],
      "execution_count": 0,
      "outputs": []
    },
    {
      "cell_type": "code",
      "metadata": {
        "id": "LqRQ8DD99KMf",
        "colab_type": "code",
        "outputId": "f4a3caee-ce9a-44f9-e6cd-beeb4b7e2c73",
        "colab": {
          "base_uri": "https://localhost:8080/",
          "height": 174
        }
      },
      "source": [
        "x[0]=1"
      ],
      "execution_count": 30,
      "outputs": [
        {
          "output_type": "error",
          "ename": "TypeError",
          "evalue": "ignored",
          "traceback": [
            "\u001b[0;31m---------------------------------------------------------------------------\u001b[0m",
            "\u001b[0;31mTypeError\u001b[0m                                 Traceback (most recent call last)",
            "\u001b[0;32m<ipython-input-30-7215f83d98c8>\u001b[0m in \u001b[0;36m<module>\u001b[0;34m()\u001b[0m\n\u001b[0;32m----> 1\u001b[0;31m \u001b[0mx\u001b[0m\u001b[0;34m[\u001b[0m\u001b[0;36m0\u001b[0m\u001b[0;34m]\u001b[0m\u001b[0;34m=\u001b[0m\u001b[0;36m1\u001b[0m\u001b[0;34m\u001b[0m\u001b[0;34m\u001b[0m\u001b[0m\n\u001b[0m",
            "\u001b[0;31mTypeError\u001b[0m: 'tuple' object does not support item assignment"
          ]
        }
      ]
    },
    {
      "cell_type": "code",
      "metadata": {
        "id": "1I8J4qHn9P_Z",
        "colab_type": "code",
        "colab": {}
      },
      "source": [
        "x={5,7,2,3,3,4,6,5}"
      ],
      "execution_count": 0,
      "outputs": []
    },
    {
      "cell_type": "code",
      "metadata": {
        "id": "wS9AIDQr9-Ur",
        "colab_type": "code",
        "outputId": "f0347ebf-549e-4f5c-e361-f6363cbbec28",
        "colab": {
          "base_uri": "https://localhost:8080/",
          "height": 35
        }
      },
      "source": [
        "x"
      ],
      "execution_count": 32,
      "outputs": [
        {
          "output_type": "execute_result",
          "data": {
            "text/plain": [
              "{2, 3, 4, 5, 6, 7}"
            ]
          },
          "metadata": {
            "tags": []
          },
          "execution_count": 32
        }
      ]
    },
    {
      "cell_type": "code",
      "metadata": {
        "id": "WnNXPrJd-nxI",
        "colab_type": "code",
        "colab": {}
      },
      "source": [
        "x={\"venad Express\":\"10.00 AM\", \"Shornur Passenger\" : \"11.00AM\"}"
      ],
      "execution_count": 0,
      "outputs": []
    },
    {
      "cell_type": "code",
      "metadata": {
        "id": "bnzbdWXH_Ij5",
        "colab_type": "code",
        "outputId": "6c3ab160-c3de-45c3-df20-e5e0fe0f08ba",
        "colab": {
          "base_uri": "https://localhost:8080/",
          "height": 35
        }
      },
      "source": [
        "x"
      ],
      "execution_count": 34,
      "outputs": [
        {
          "output_type": "execute_result",
          "data": {
            "text/plain": [
              "{'Shornur Passenger': '11.00AM', 'venad Express': '10.00 AM'}"
            ]
          },
          "metadata": {
            "tags": []
          },
          "execution_count": 34
        }
      ]
    },
    {
      "cell_type": "code",
      "metadata": {
        "id": "4ZuB49WR_JGD",
        "colab_type": "code",
        "outputId": "3440f0b9-0e17-4ca2-ff8e-ca2ba31a1f55",
        "colab": {
          "base_uri": "https://localhost:8080/",
          "height": 35
        }
      },
      "source": [
        "x[\"Shornur Passenger\"]"
      ],
      "execution_count": 35,
      "outputs": [
        {
          "output_type": "execute_result",
          "data": {
            "text/plain": [
              "'11.00AM'"
            ]
          },
          "metadata": {
            "tags": []
          },
          "execution_count": 35
        }
      ]
    },
    {
      "cell_type": "code",
      "metadata": {
        "id": "UnyPgnbp_aQq",
        "colab_type": "code",
        "colab": {}
      },
      "source": [
        "x[\"Shornur Passenger\"] = \"10.30 AM\""
      ],
      "execution_count": 0,
      "outputs": []
    },
    {
      "cell_type": "code",
      "metadata": {
        "id": "mF2WPrY6_pHK",
        "colab_type": "code",
        "outputId": "9b2a971b-af3e-46e5-c08a-0a3b12e74a70",
        "colab": {
          "base_uri": "https://localhost:8080/",
          "height": 35
        }
      },
      "source": [
        "x"
      ],
      "execution_count": 37,
      "outputs": [
        {
          "output_type": "execute_result",
          "data": {
            "text/plain": [
              "{'Shornur Passenger': '10.30 AM', 'venad Express': '10.00 AM'}"
            ]
          },
          "metadata": {
            "tags": []
          },
          "execution_count": 37
        }
      ]
    },
    {
      "cell_type": "code",
      "metadata": {
        "id": "XqpHGBsf_p8m",
        "colab_type": "code",
        "colab": {}
      },
      "source": [
        "x={\"Name\" : \"John\", \"Age\" : 25, \"Dept\" : \"Sales\"}"
      ],
      "execution_count": 0,
      "outputs": []
    },
    {
      "cell_type": "code",
      "metadata": {
        "id": "ZIhbU-KY_-Tq",
        "colab_type": "code",
        "outputId": "dbad3276-b7b2-445e-ef08-74fadc95bc2d",
        "colab": {
          "base_uri": "https://localhost:8080/",
          "height": 35
        }
      },
      "source": [
        "x[\"Age\"]"
      ],
      "execution_count": 41,
      "outputs": [
        {
          "output_type": "execute_result",
          "data": {
            "text/plain": [
              "25"
            ]
          },
          "metadata": {
            "tags": []
          },
          "execution_count": 41
        }
      ]
    },
    {
      "cell_type": "code",
      "metadata": {
        "id": "ws6YNZt_ANjC",
        "colab_type": "code",
        "colab": {}
      },
      "source": [
        ""
      ],
      "execution_count": 0,
      "outputs": []
    }
  ]
}