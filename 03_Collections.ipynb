{
  "nbformat": 4,
  "nbformat_minor": 0,
  "metadata": {
    "colab": {
      "name": "03.Collections.ipynb",
      "provenance": [],
      "collapsed_sections": [],
      "authorship_tag": "ABX9TyNQSrWx+6QNzfh1ADkZ3cRp",
      "include_colab_link": true
    },
    "kernelspec": {
      "name": "python3",
      "display_name": "Python 3"
    }
  },
  "cells": [
    {
      "cell_type": "markdown",
      "metadata": {
        "id": "view-in-github",
        "colab_type": "text"
      },
      "source": [
        "<a href=\"https://colab.research.google.com/github/openlearnx/Free-Training-program-on-Artificial-Intelligence-/blob/master/03_Collections.ipynb\" target=\"_parent\"><img src=\"https://colab.research.google.com/assets/colab-badge.svg\" alt=\"Open In Colab\"/></a>"
      ]
    },
    {
      "cell_type": "code",
      "metadata": {
        "id": "qw0DDsEg4vAW",
        "colab_type": "code",
        "colab": {}
      },
      "source": [
        "x=[\"Venad Express\",\"Parasuram Express\", \"Shornur Passenger\", \"Chennai Mail\", \"Hyderabad Express\"]"
      ],
      "execution_count": 0,
      "outputs": []
    },
    {
      "cell_type": "code",
      "metadata": {
        "id": "zjU-zHmC5qv4",
        "colab_type": "code",
        "outputId": "7bb8d79e-e338-4f09-a020-9111c7adae1c",
        "colab": {
          "base_uri": "https://localhost:8080/",
          "height": 107
        }
      },
      "source": [
        "x"
      ],
      "execution_count": 0,
      "outputs": [
        {
          "output_type": "execute_result",
          "data": {
            "text/plain": [
              "['Vendad Express',\n",
              " 'Parasuram Express',\n",
              " 'Shornur Passenger',\n",
              " 'Chennai Mail',\n",
              " 'Hyderabad Express']"
            ]
          },
          "metadata": {
            "tags": []
          },
          "execution_count": 2
        }
      ]
    },
    {
      "cell_type": "code",
      "metadata": {
        "id": "6diFv11R5sOt",
        "colab_type": "code",
        "outputId": "fabeed7a-d928-4a7b-a71c-dea1d95bb235",
        "colab": {
          "base_uri": "https://localhost:8080/",
          "height": 35
        }
      },
      "source": [
        "type(x)"
      ],
      "execution_count": 0,
      "outputs": [
        {
          "output_type": "execute_result",
          "data": {
            "text/plain": [
              "list"
            ]
          },
          "metadata": {
            "tags": []
          },
          "execution_count": 3
        }
      ]
    },
    {
      "cell_type": "code",
      "metadata": {
        "id": "3NWoISLk5zZS",
        "colab_type": "code",
        "outputId": "f6d21548-21b7-4e41-95a2-7a59b1af43ab",
        "colab": {
          "base_uri": "https://localhost:8080/",
          "height": 35
        }
      },
      "source": [
        "x[0]"
      ],
      "execution_count": 0,
      "outputs": [
        {
          "output_type": "execute_result",
          "data": {
            "text/plain": [
              "'Vendad Express'"
            ]
          },
          "metadata": {
            "tags": []
          },
          "execution_count": 4
        }
      ]
    },
    {
      "cell_type": "code",
      "metadata": {
        "id": "8_XZl0vJ59Tf",
        "colab_type": "code",
        "outputId": "985c80e6-9fc0-4acf-f14a-6c9a7ab5a8db",
        "colab": {
          "base_uri": "https://localhost:8080/",
          "height": 35
        }
      },
      "source": [
        "x[0:3]"
      ],
      "execution_count": 0,
      "outputs": [
        {
          "output_type": "execute_result",
          "data": {
            "text/plain": [
              "['Vendad Express', 'Parasuram Express', 'Shornur Passenger']"
            ]
          },
          "metadata": {
            "tags": []
          },
          "execution_count": 5
        }
      ]
    },
    {
      "cell_type": "code",
      "metadata": {
        "id": "PYVd107H6ASj",
        "colab_type": "code",
        "outputId": "ffc03e9b-4cd4-4dd7-ae51-f9306c455e45",
        "colab": {
          "base_uri": "https://localhost:8080/",
          "height": 35
        }
      },
      "source": [
        "x[-1]"
      ],
      "execution_count": 0,
      "outputs": [
        {
          "output_type": "execute_result",
          "data": {
            "text/plain": [
              "'Hyderabad Express'"
            ]
          },
          "metadata": {
            "tags": []
          },
          "execution_count": 6
        }
      ]
    },
    {
      "cell_type": "code",
      "metadata": {
        "id": "k-GWh-TJ6Dis",
        "colab_type": "code",
        "outputId": "4be2991f-8f35-49aa-e83f-5fb0b222f902",
        "colab": {
          "base_uri": "https://localhost:8080/",
          "height": 35
        }
      },
      "source": [
        "x[1:]"
      ],
      "execution_count": 0,
      "outputs": [
        {
          "output_type": "execute_result",
          "data": {
            "text/plain": [
              "['Parasuram Express', 'Shornur Passenger', 'Chennai Mail', 'Hyderabad Express']"
            ]
          },
          "metadata": {
            "tags": []
          },
          "execution_count": 7
        }
      ]
    },
    {
      "cell_type": "code",
      "metadata": {
        "id": "0oYeB7ov6KcG",
        "colab_type": "code",
        "outputId": "d259c29c-5653-48ec-b136-81acac8d5859",
        "colab": {
          "base_uri": "https://localhost:8080/",
          "height": 35
        }
      },
      "source": [
        "x.index(\"Hyderabad Express\")"
      ],
      "execution_count": 0,
      "outputs": [
        {
          "output_type": "execute_result",
          "data": {
            "text/plain": [
              "4"
            ]
          },
          "metadata": {
            "tags": []
          },
          "execution_count": 8
        }
      ]
    },
    {
      "cell_type": "code",
      "metadata": {
        "id": "v6fmmQKO6e2U",
        "colab_type": "code",
        "colab": {}
      },
      "source": [
        "x[4]=\"Nisamudheen Express\""
      ],
      "execution_count": 0,
      "outputs": []
    },
    {
      "cell_type": "code",
      "metadata": {
        "id": "xkFp18Yq6nw5",
        "colab_type": "code",
        "outputId": "33234906-7755-419e-c77b-8c793ba7a0f5",
        "colab": {
          "base_uri": "https://localhost:8080/",
          "height": 107
        }
      },
      "source": [
        "x"
      ],
      "execution_count": 0,
      "outputs": [
        {
          "output_type": "execute_result",
          "data": {
            "text/plain": [
              "['Vendad Express',\n",
              " 'Parasuram Express',\n",
              " 'Shornur Passenger',\n",
              " 'Chennai Mail',\n",
              " 'Nisamudheen Express']"
            ]
          },
          "metadata": {
            "tags": []
          },
          "execution_count": 10
        }
      ]
    },
    {
      "cell_type": "code",
      "metadata": {
        "id": "kTe-Ocha6rH8",
        "colab_type": "code",
        "colab": {}
      },
      "source": [
        "x.append(\"Rajadhani Express\")"
      ],
      "execution_count": 0,
      "outputs": []
    },
    {
      "cell_type": "code",
      "metadata": {
        "id": "fiQJhSiW7HjE",
        "colab_type": "code",
        "outputId": "00d40bb1-bedb-4ee3-a5e0-f678f161c1cf",
        "colab": {
          "base_uri": "https://localhost:8080/",
          "height": 125
        }
      },
      "source": [
        "x"
      ],
      "execution_count": 0,
      "outputs": [
        {
          "output_type": "execute_result",
          "data": {
            "text/plain": [
              "['Vendad Express',\n",
              " 'Parasuram Express',\n",
              " 'Shornur Passenger',\n",
              " 'Chennai Mail',\n",
              " 'Nisamudheen Express',\n",
              " 'Rajadhani Express']"
            ]
          },
          "metadata": {
            "tags": []
          },
          "execution_count": 12
        }
      ]
    },
    {
      "cell_type": "code",
      "metadata": {
        "id": "nkaae0wE7IGQ",
        "colab_type": "code",
        "colab": {}
      },
      "source": [
        "x.insert(0,\"Maharaja Express\")"
      ],
      "execution_count": 0,
      "outputs": []
    },
    {
      "cell_type": "code",
      "metadata": {
        "id": "QNtADIyt7i3g",
        "colab_type": "code",
        "outputId": "5b24d3d3-646b-4bb4-8b78-5493d5eb65e5",
        "colab": {
          "base_uri": "https://localhost:8080/",
          "height": 143
        }
      },
      "source": [
        "x"
      ],
      "execution_count": 0,
      "outputs": [
        {
          "output_type": "execute_result",
          "data": {
            "text/plain": [
              "['Maharaja Express',\n",
              " 'Vendad Express',\n",
              " 'Parasuram Express',\n",
              " 'Shornur Passenger',\n",
              " 'Chennai Mail',\n",
              " 'Nisamudheen Express',\n",
              " 'Rajadhani Express']"
            ]
          },
          "metadata": {
            "tags": []
          },
          "execution_count": 14
        }
      ]
    },
    {
      "cell_type": "code",
      "metadata": {
        "id": "3hwaMlDp7jii",
        "colab_type": "code",
        "colab": {}
      },
      "source": [
        "del x[0]"
      ],
      "execution_count": 0,
      "outputs": []
    },
    {
      "cell_type": "code",
      "metadata": {
        "id": "XiQrhGOp7085",
        "colab_type": "code",
        "outputId": "f387b8f9-cbd7-40ac-a775-be971c727c61",
        "colab": {
          "base_uri": "https://localhost:8080/",
          "height": 125
        }
      },
      "source": [
        "x"
      ],
      "execution_count": 0,
      "outputs": [
        {
          "output_type": "execute_result",
          "data": {
            "text/plain": [
              "['Vendad Express',\n",
              " 'Parasuram Express',\n",
              " 'Shornur Passenger',\n",
              " 'Chennai Mail',\n",
              " 'Nisamudheen Express',\n",
              " 'Rajadhani Express']"
            ]
          },
          "metadata": {
            "tags": []
          },
          "execution_count": 16
        }
      ]
    },
    {
      "cell_type": "code",
      "metadata": {
        "id": "MgWzDE6S71kh",
        "colab_type": "code",
        "colab": {}
      },
      "source": [
        "del x[1]"
      ],
      "execution_count": 0,
      "outputs": []
    },
    {
      "cell_type": "code",
      "metadata": {
        "id": "xeRjqtHH76mk",
        "colab_type": "code",
        "outputId": "612d1686-9fe7-4e26-c0c0-e03bf2996737",
        "colab": {
          "base_uri": "https://localhost:8080/",
          "height": 107
        }
      },
      "source": [
        "x"
      ],
      "execution_count": 0,
      "outputs": [
        {
          "output_type": "execute_result",
          "data": {
            "text/plain": [
              "['Vendad Express',\n",
              " 'Shornur Passenger',\n",
              " 'Chennai Mail',\n",
              " 'Nisamudheen Express',\n",
              " 'Rajadhani Express']"
            ]
          },
          "metadata": {
            "tags": []
          },
          "execution_count": 18
        }
      ]
    },
    {
      "cell_type": "code",
      "metadata": {
        "id": "YPJkwqLr77jZ",
        "colab_type": "code",
        "outputId": "28fd0501-b7ae-42b0-fbb6-e924a89c3a82",
        "colab": {
          "base_uri": "https://localhost:8080/",
          "height": 35
        }
      },
      "source": [
        "x.pop()"
      ],
      "execution_count": 0,
      "outputs": [
        {
          "output_type": "execute_result",
          "data": {
            "text/plain": [
              "'Rajadhani Express'"
            ]
          },
          "metadata": {
            "tags": []
          },
          "execution_count": 19
        }
      ]
    },
    {
      "cell_type": "code",
      "metadata": {
        "id": "DZ8WmPQz8DB-",
        "colab_type": "code",
        "colab": {}
      },
      "source": [
        "x=[5,3,4,6,7,9,3]"
      ],
      "execution_count": 0,
      "outputs": []
    },
    {
      "cell_type": "code",
      "metadata": {
        "id": "da1SrHDL8RSc",
        "colab_type": "code",
        "colab": {}
      },
      "source": [
        "y=[3,6,7]"
      ],
      "execution_count": 0,
      "outputs": []
    },
    {
      "cell_type": "code",
      "metadata": {
        "id": "56t7aI9e8S-Q",
        "colab_type": "code",
        "outputId": "4b27d32d-9a8b-45df-e372-7ed4496273d8",
        "colab": {
          "base_uri": "https://localhost:8080/",
          "height": 35
        }
      },
      "source": [
        "x+y"
      ],
      "execution_count": 0,
      "outputs": [
        {
          "output_type": "execute_result",
          "data": {
            "text/plain": [
              "[5, 3, 4, 6, 7, 9, 3, 3, 6, 7]"
            ]
          },
          "metadata": {
            "tags": []
          },
          "execution_count": 22
        }
      ]
    },
    {
      "cell_type": "code",
      "metadata": {
        "id": "oWqw5NkW8Ulz",
        "colab_type": "code",
        "colab": {}
      },
      "source": [
        "x.sort()"
      ],
      "execution_count": 0,
      "outputs": []
    },
    {
      "cell_type": "code",
      "metadata": {
        "id": "T9-YVei_8dE0",
        "colab_type": "code",
        "outputId": "d49d00ff-8097-4255-9c7c-946b2d5a96ec",
        "colab": {
          "base_uri": "https://localhost:8080/",
          "height": 35
        }
      },
      "source": [
        "x"
      ],
      "execution_count": 0,
      "outputs": [
        {
          "output_type": "execute_result",
          "data": {
            "text/plain": [
              "[3, 3, 4, 5, 6, 7, 9]"
            ]
          },
          "metadata": {
            "tags": []
          },
          "execution_count": 24
        }
      ]
    },
    {
      "cell_type": "code",
      "metadata": {
        "id": "D-V7jfpJ8d3Y",
        "colab_type": "code",
        "colab": {}
      },
      "source": [
        "x.reverse()"
      ],
      "execution_count": 0,
      "outputs": []
    },
    {
      "cell_type": "code",
      "metadata": {
        "id": "megshAST8hqQ",
        "colab_type": "code",
        "outputId": "f8375bd7-95de-4256-90b9-c04841c87edf",
        "colab": {
          "base_uri": "https://localhost:8080/",
          "height": 35
        }
      },
      "source": [
        "x"
      ],
      "execution_count": 0,
      "outputs": [
        {
          "output_type": "execute_result",
          "data": {
            "text/plain": [
              "[9, 7, 6, 5, 4, 3, 3]"
            ]
          },
          "metadata": {
            "tags": []
          },
          "execution_count": 26
        }
      ]
    },
    {
      "cell_type": "code",
      "metadata": {
        "id": "9QFOGg8f814o",
        "colab_type": "code",
        "outputId": "646f5fd6-ca50-4c90-d0c2-51c371d4abed",
        "colab": {
          "base_uri": "https://localhost:8080/",
          "height": 35
        }
      },
      "source": [
        "min(x)"
      ],
      "execution_count": 0,
      "outputs": [
        {
          "output_type": "execute_result",
          "data": {
            "text/plain": [
              "3"
            ]
          },
          "metadata": {
            "tags": []
          },
          "execution_count": 27
        }
      ]
    },
    {
      "cell_type": "code",
      "metadata": {
        "id": "X924mCTk83qQ",
        "colab_type": "code",
        "outputId": "e6d0eaad-90e9-487d-9e7b-8bbca1bc1aa7",
        "colab": {
          "base_uri": "https://localhost:8080/",
          "height": 35
        }
      },
      "source": [
        "max(x)"
      ],
      "execution_count": 0,
      "outputs": [
        {
          "output_type": "execute_result",
          "data": {
            "text/plain": [
              "9"
            ]
          },
          "metadata": {
            "tags": []
          },
          "execution_count": 28
        }
      ]
    },
    {
      "cell_type": "code",
      "metadata": {
        "id": "MbaExqCB8489",
        "colab_type": "code",
        "colab": {}
      },
      "source": [
        "x=(2,3,5,4,6)"
      ],
      "execution_count": 0,
      "outputs": []
    },
    {
      "cell_type": "code",
      "metadata": {
        "id": "LqRQ8DD99KMf",
        "colab_type": "code",
        "outputId": "1e24f210-caf2-4ede-f7f2-5e4e74510010",
        "colab": {
          "base_uri": "https://localhost:8080/",
          "height": 172
        }
      },
      "source": [
        "x[0]=1"
      ],
      "execution_count": 0,
      "outputs": [
        {
          "output_type": "error",
          "ename": "TypeError",
          "evalue": "ignored",
          "traceback": [
            "\u001b[0;31m---------------------------------------------------------------------------\u001b[0m",
            "\u001b[0;31mTypeError\u001b[0m                                 Traceback (most recent call last)",
            "\u001b[0;32m<ipython-input-31-7215f83d98c8>\u001b[0m in \u001b[0;36m<module>\u001b[0;34m()\u001b[0m\n\u001b[0;32m----> 1\u001b[0;31m \u001b[0mx\u001b[0m\u001b[0;34m[\u001b[0m\u001b[0;36m0\u001b[0m\u001b[0;34m]\u001b[0m\u001b[0;34m=\u001b[0m\u001b[0;36m1\u001b[0m\u001b[0;34m\u001b[0m\u001b[0;34m\u001b[0m\u001b[0m\n\u001b[0m",
            "\u001b[0;31mTypeError\u001b[0m: 'tuple' object does not support item assignment"
          ]
        }
      ]
    },
    {
      "cell_type": "code",
      "metadata": {
        "id": "1I8J4qHn9P_Z",
        "colab_type": "code",
        "colab": {}
      },
      "source": [
        "x={5,7,2,3,3,4,6,5}"
      ],
      "execution_count": 0,
      "outputs": []
    },
    {
      "cell_type": "code",
      "metadata": {
        "id": "wS9AIDQr9-Ur",
        "colab_type": "code",
        "outputId": "bafd2679-9759-4440-dcb3-7bf5ec6f5fc9",
        "colab": {
          "base_uri": "https://localhost:8080/",
          "height": 35
        }
      },
      "source": [
        "x"
      ],
      "execution_count": 0,
      "outputs": [
        {
          "output_type": "execute_result",
          "data": {
            "text/plain": [
              "{2, 3, 4, 5, 6, 7}"
            ]
          },
          "metadata": {
            "tags": []
          },
          "execution_count": 33
        }
      ]
    },
    {
      "cell_type": "code",
      "metadata": {
        "id": "WnNXPrJd-nxI",
        "colab_type": "code",
        "colab": {}
      },
      "source": [
        "x={\"venad Express\":\"10.00 AM\", \"Shornur Passenger\" : \"11.00AM\"}"
      ],
      "execution_count": 0,
      "outputs": []
    },
    {
      "cell_type": "code",
      "metadata": {
        "id": "bnzbdWXH_Ij5",
        "colab_type": "code",
        "outputId": "c83079b7-eb43-42b8-8e3d-d9933458ec04",
        "colab": {
          "base_uri": "https://localhost:8080/",
          "height": 35
        }
      },
      "source": [
        "x"
      ],
      "execution_count": 0,
      "outputs": [
        {
          "output_type": "execute_result",
          "data": {
            "text/plain": [
              "{'Shornur Passenger': '11.00AM', 'venad Express': '10.00 AM'}"
            ]
          },
          "metadata": {
            "tags": []
          },
          "execution_count": 35
        }
      ]
    },
    {
      "cell_type": "code",
      "metadata": {
        "id": "4ZuB49WR_JGD",
        "colab_type": "code",
        "outputId": "4c4a0cef-ce9d-48cf-c5ad-4d6ac5f20f78",
        "colab": {
          "base_uri": "https://localhost:8080/",
          "height": 35
        }
      },
      "source": [
        "x[\"Shornur Passenger\"]"
      ],
      "execution_count": 0,
      "outputs": [
        {
          "output_type": "execute_result",
          "data": {
            "text/plain": [
              "'11.00AM'"
            ]
          },
          "metadata": {
            "tags": []
          },
          "execution_count": 36
        }
      ]
    },
    {
      "cell_type": "code",
      "metadata": {
        "id": "UnyPgnbp_aQq",
        "colab_type": "code",
        "colab": {}
      },
      "source": [
        "x[\"Shornur Passenger\"] = \"10.30 AM\""
      ],
      "execution_count": 0,
      "outputs": []
    },
    {
      "cell_type": "code",
      "metadata": {
        "id": "mF2WPrY6_pHK",
        "colab_type": "code",
        "outputId": "3e642981-7d28-4150-f841-b07875290448",
        "colab": {
          "base_uri": "https://localhost:8080/",
          "height": 35
        }
      },
      "source": [
        "x"
      ],
      "execution_count": 0,
      "outputs": [
        {
          "output_type": "execute_result",
          "data": {
            "text/plain": [
              "{'Shornur Passenger': '10.30 AM', 'venad Express': '10.00 AM'}"
            ]
          },
          "metadata": {
            "tags": []
          },
          "execution_count": 38
        }
      ]
    },
    {
      "cell_type": "code",
      "metadata": {
        "id": "XqpHGBsf_p8m",
        "colab_type": "code",
        "colab": {}
      },
      "source": [
        "x={\"Name\" : \"John\", \"Age\" : 25, \"Dept\" : \"Sales\"}"
      ],
      "execution_count": 0,
      "outputs": []
    },
    {
      "cell_type": "code",
      "metadata": {
        "id": "ZIhbU-KY_-Tq",
        "colab_type": "code",
        "outputId": "e250ee1c-4f86-4bbb-a8f9-68d86155d13c",
        "colab": {
          "base_uri": "https://localhost:8080/",
          "height": 35
        }
      },
      "source": [
        "x[\"Age\"]"
      ],
      "execution_count": 0,
      "outputs": [
        {
          "output_type": "execute_result",
          "data": {
            "text/plain": [
              "25"
            ]
          },
          "metadata": {
            "tags": []
          },
          "execution_count": 40
        }
      ]
    },
    {
      "cell_type": "code",
      "metadata": {
        "id": "ws6YNZt_ANjC",
        "colab_type": "code",
        "colab": {}
      },
      "source": [
        ""
      ],
      "execution_count": 0,
      "outputs": []
    }
  ]
}